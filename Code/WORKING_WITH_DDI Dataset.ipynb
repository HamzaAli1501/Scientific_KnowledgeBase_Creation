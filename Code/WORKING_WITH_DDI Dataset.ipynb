{
 "cells": [
  {
   "cell_type": "code",
   "execution_count": 1,
   "metadata": {},
   "outputs": [
    {
     "name": "stderr",
     "output_type": "stream",
     "text": [
      "[nltk_data] Downloading package punkt to /home/ali/nltk_data...\n",
      "[nltk_data]   Package punkt is already up-to-date!\n"
     ]
    }
   ],
   "source": [
    "import re\n",
    "import pandas as pd\n",
    "import bs4\n",
    "import requests\n",
    "import spacy\n",
    "from spacy import displacy\n",
    "nlp = spacy.load('en_core_web_sm')\n",
    "\n",
    "from nltk.tokenize import word_tokenize\n",
    "import nltk\n",
    "nltk.download('punkt')\n",
    "from nltk.corpus import stopwords\n",
    "stop = stopwords.words('english')\n",
    "import string\n",
    "\n",
    "from spacy.matcher import Matcher \n",
    "from spacy.tokens import Span \n",
    "\n",
    "import networkx as nx\n",
    "import matplotlib.pyplot as plt\n",
    "from tqdm import tqdm\n",
    "\n",
    "pd.set_option('display.max_colwidth', 200)\n",
    "%matplotlib inline"
   ]
  },
  {
   "cell_type": "code",
   "execution_count": 2,
   "metadata": {},
   "outputs": [
    {
     "data": {
      "text/plain": [
       "(6120, 3)"
      ]
     },
     "execution_count": 2,
     "metadata": {},
     "output_type": "execute_result"
    }
   ],
   "source": [
    "# import wikipedia sentences\n",
    "candidate_sentences = pd.read_csv(\"DataSet/DDIdataset.csv\")\n",
    "candidate_sentences.shape"
   ]
  },
  {
   "cell_type": "code",
   "execution_count": 3,
   "metadata": {},
   "outputs": [
    {
     "data": {
      "text/plain": [
       "5363    The possibility of hypotensive effects with OTHER_DRUG or OTHER_DRUG can be minimized by either discontinuing the OTHER_DRUG or increasing the salt intake prior to initiation of treatment with OTH...\n",
       "5420                                              Magnesium- and OTHER_DRUG-containing OTHER_DRUG, administered concomitantly with OTHER_DRUG, significantly decreased the bioavailability (48%) of OTHER_DRUG.\n",
       "4069                                                                                                                                                                 Sedative/hypnotics: OTHER_DRUG, OTHER_DRUG\n",
       "428     Drugs that reportedly may increase oral OTHER_DRUG response, ie, increased prothrombin response, in man include:OTHER_DRUG*;OTHER_DRUG;OTHER_DRUG;OTHER_DRUG;OTHER_DRUG;OTHER_DRUG;OTHER_DRUG;OTHER_...\n",
       "2761    Interactions may also occur with the following: OTHER_DRUG/OTHER_DRUG, drugs used to treat an overactive thyroid, OTHER_DRUG (e.g., OTHER_DRUG), OTHER_DRUG, OTHER_DRUG, OTHER_DRUG, OTHER_DRUG, OTH...\n",
       "Name: Sentence, dtype: object"
      ]
     },
     "execution_count": 3,
     "metadata": {},
     "output_type": "execute_result"
    }
   ],
   "source": [
    "candidate_sentences['Sentence'].sample(5)"
   ]
  },
  {
   "cell_type": "code",
   "execution_count": 4,
   "metadata": {},
   "outputs": [],
   "source": [
    "#For Cleaning Data\n",
    "def review_cleaning(text):\n",
    "    tokens = word_tokenize(text.replace('-', ' ').replace('/',' '))\n",
    "    tokens = [w.lower() for w in tokens if len(w.lower())>2]\n",
    "    table = str.maketrans('', '', string.punctuation)\n",
    "    stripped = [w.translate(table) for w in tokens]\n",
    "    words = [word for word in stripped if word.isalpha() and word not in stop]\n",
    "    clean_text = ' '.join(words)\n",
    "    return clean_text"
   ]
  },
  {
   "cell_type": "code",
   "execution_count": 5,
   "metadata": {},
   "outputs": [],
   "source": [
    "def get_entities(sent):\n",
    "  sent = review_cleaning(sent)\n",
    "\n",
    "  ## chunk 1\n",
    "  ent1 = \"\"\n",
    "  ent2 = \"\"\n",
    "\n",
    "  prv_tok_dep = \"\"    # dependency tag of previous token in the sentence\n",
    "  prv_tok_text = \"\"   # previous token in the sentence\n",
    "\n",
    "  prefix = \"\"\n",
    "  modifier = \"\"\n",
    "\n",
    "  #############################################################\n",
    "  \n",
    "  for tok in nlp(sent):\n",
    "    ## chunk 2\n",
    "    # if token is a punctuation mark then move on to the next token\n",
    "    if tok.dep_ != \"punct\":\n",
    "      # check: token is a compound word or not\n",
    "      if tok.dep_ == \"compound\":\n",
    "        prefix = tok.text\n",
    "        # if the previous word was also a 'compound' then add the current word to it\n",
    "        if prv_tok_dep == \"compound\":\n",
    "          prefix = prv_tok_text + \" \"+ tok.text\n",
    "      \n",
    "      # check: token is a modifier or not\n",
    "      if tok.dep_.endswith(\"mod\") == True:\n",
    "        modifier = tok.text\n",
    "        # if the previous word was also a 'compound' then add the current word to it\n",
    "        if prv_tok_dep == \"compound\":\n",
    "          modifier = prv_tok_text + \" \"+ tok.text\n",
    "      \n",
    "      ## chunk 3\n",
    "      if tok.dep_.find(\"subj\") == True:\n",
    "        ent1 = modifier +\" \"+ prefix + \" \"+ tok.text\n",
    "        prefix = \"\"\n",
    "        modifier = \"\"\n",
    "        prv_tok_dep = \"\"\n",
    "        prv_tok_text = \"\"      \n",
    "\n",
    "      ## chunk 4\n",
    "      if tok.dep_.find(\"obj\") == True:\n",
    "        ent2 = modifier +\" \"+ prefix +\" \"+ tok.text\n",
    "        \n",
    "      ## chunk 5  \n",
    "      # update variables\n",
    "      prv_tok_dep = tok.dep_\n",
    "      prv_tok_text = tok.text\n",
    "  #############################################################\n",
    "\n",
    "  return [ent1.strip(), ent2.strip()]"
   ]
  },
  {
   "cell_type": "code",
   "execution_count": 6,
   "metadata": {},
   "outputs": [
    {
     "name": "stderr",
     "output_type": "stream",
     "text": [
      "100%|██████████| 6120/6120 [01:24<00:00, 72.68it/s]\n"
     ]
    }
   ],
   "source": [
    "entity_pairs = []\n",
    "\n",
    "for i in tqdm(candidate_sentences[\"Sentence\"]):\n",
    "  entity_pairs.append(get_entities(i))"
   ]
  },
  {
   "cell_type": "code",
   "execution_count": 7,
   "metadata": {},
   "outputs": [
    {
     "data": {
      "text/plain": [
       "[['', 'organophosphate carbamate insecticides'],\n",
       " ['patients', 'various clearance hydrodolasetron'],\n",
       " ['aid sleep drugs', 'drowsy'],\n",
       " ['otherdrug  otherdrug', 'loop'],\n",
       " ['rare interaction otherdrug nifedipine', ''],\n",
       " ['cold number antihyperlipidemics', 'otherdrug beta blockers'],\n",
       " ['otherdrug  otherdrug', ''],\n",
       " ['thioxanthene otherdrug monoamine oxidase inhibitors', 'otherdrug'],\n",
       " ['otherdrug ace otherdrug', 'adverse  interactions'],\n",
       " ['concomitant administration compounds', 'metabolism docetaxel']]"
      ]
     },
     "execution_count": 7,
     "metadata": {},
     "output_type": "execute_result"
    }
   ],
   "source": [
    "entity_pairs[10:20]"
   ]
  },
  {
   "cell_type": "code",
   "execution_count": 8,
   "metadata": {},
   "outputs": [],
   "source": [
    "def get_relation(sent):\n",
    "  sent = review_cleaning(sent)\n",
    "  doc = nlp(sent)\n",
    "\n",
    "  # Matcher class object \n",
    "  matcher = Matcher(nlp.vocab)\n",
    "\n",
    "  #define the pattern \n",
    "  pattern = [{'DEP':'ROOT'}, \n",
    "            {'DEP':'prep','OP':\"?\"},\n",
    "            {'DEP':'agent','OP':\"?\"},  \n",
    "            {'POS':'ADJ','OP':\"?\"}] \n",
    "\n",
    "  matcher.add(\"matching_1\", [pattern])\n",
    "  matches = matcher(doc)\n",
    "  #print(\"Matches -> \",matches)\n",
    "  #print(\"Length of match\",len(matches) - 1)\n",
    "  k = len(matches) - 1\n",
    "  #print(\"Len of K \", k)\n",
    "  #print(\"Matches \", matches)\n",
    "  #print(\"Matches k1\",matches[k][1])\n",
    "  #print(\"Matches k2\",matches[k][2])\n",
    "  \n",
    "  #print(\"DOC of Matches k1\",doc[matches[k][1]])\n",
    "  #print(\"DOC of Matches k2\",doc[matches[k][2]])\n",
    "  #print(\"DOC of Matches k3\",doc[matches[k][3]])\n",
    "\n",
    "  #print(f\"DOC ranges:K1 {doc[matches[k][1]]} and K2 {doc[matches[k][2]]}. \")\n",
    "  #print(\"Matches ->\", [doc[start:end].text for match_id, start, end in matches])\n",
    "\n",
    "  span = doc[matches[k][1]:matches[k][2]] \n",
    "  \n",
    "  #print(\"SPAN.text\",doc[matches[k][1]:matches[k][2]].text)\n",
    "  #print(span.text)\n",
    "  return(span.text)"
   ]
  },
  {
   "cell_type": "code",
   "execution_count": 9,
   "metadata": {},
   "outputs": [
    {
     "name": "stderr",
     "output_type": "stream",
     "text": [
      "100%|██████████| 6120/6120 [01:22<00:00, 73.79it/s]\n"
     ]
    }
   ],
   "source": [
    "relations = [get_relation(i) for i in tqdm(candidate_sentences['Sentence'])]"
   ]
  },
  {
   "cell_type": "code",
   "execution_count": 10,
   "metadata": {},
   "outputs": [
    {
     "data": {
      "text/plain": [
       "otherdrug                701\n",
       "otherdrug otherdrug      396\n",
       "found                    282\n",
       "interact following       145\n",
       "alter                    137\n",
       "increase                 114\n",
       "used                      87\n",
       "reported                  84\n",
       "decreased                 84\n",
       "include                   69\n",
       "reduce                    69\n",
       "enhance neuromuscular     69\n",
       "include otherdrug         63\n",
       "interact                  61\n",
       "increase oral             59\n",
       "vitro                     58\n",
       "wort                      53\n",
       "include acute             53\n",
       "inhibit                   53\n",
       "enhance                   46\n",
       "occur                     45\n",
       "use                       44\n",
       "decrease                  43\n",
       "administered              42\n",
       "resulted                  41\n",
       "increased                 41\n",
       "shown                     39\n",
       "otherdrug overdosage      38\n",
       "interfere                 38\n",
       "result                    38\n",
       "cause                     37\n",
       "affect                    36\n",
       "metabolized               36\n",
       "tell                      33\n",
       "substrates                33\n",
       "elevated                  31\n",
       "showed                    31\n",
       "demonstrated              31\n",
       "used clinical             27\n",
       "approached                27\n",
       "reports                   25\n",
       "received                  25\n",
       "used therapeutic          25\n",
       "considered                25\n",
       "otherdrug eg              25\n",
       "interact otherdrug        24\n",
       "contraindicated           24\n",
       "reported concomitant      22\n",
       "observed                  21\n",
       "induce                    21\n",
       "dtype: int64"
      ]
     },
     "execution_count": 10,
     "metadata": {},
     "output_type": "execute_result"
    }
   ],
   "source": [
    "pd.Series(relations).value_counts()[:50]"
   ]
  },
  {
   "cell_type": "code",
   "execution_count": 11,
   "metadata": {},
   "outputs": [
    {
     "data": {
      "text/html": [
       "<div>\n",
       "<style scoped>\n",
       "    .dataframe tbody tr th:only-of-type {\n",
       "        vertical-align: middle;\n",
       "    }\n",
       "\n",
       "    .dataframe tbody tr th {\n",
       "        vertical-align: top;\n",
       "    }\n",
       "\n",
       "    .dataframe thead th {\n",
       "        text-align: right;\n",
       "    }\n",
       "</style>\n",
       "<table border=\"1\" class=\"dataframe\">\n",
       "  <thead>\n",
       "    <tr style=\"text-align: right;\">\n",
       "      <th></th>\n",
       "      <th>source</th>\n",
       "      <th>target</th>\n",
       "      <th>edge</th>\n",
       "    </tr>\n",
       "  </thead>\n",
       "  <tbody>\n",
       "    <tr>\n",
       "      <th>0</th>\n",
       "      <td>reason dose adrenaline</td>\n",
       "      <td>antiarrhythmic  agent</td>\n",
       "      <td>restricted antiarrhythmic</td>\n",
       "    </tr>\n",
       "    <tr>\n",
       "      <th>1</th>\n",
       "      <td>eg eg otherdrug</td>\n",
       "      <td>otherdrug  eg</td>\n",
       "      <td>otherdrug</td>\n",
       "    </tr>\n",
       "    <tr>\n",
       "      <th>2</th>\n",
       "      <td>otherdrug  glucocorticoids</td>\n",
       "      <td>otherdrug  otherdrug</td>\n",
       "      <td>found</td>\n",
       "    </tr>\n",
       "    <tr>\n",
       "      <th>3</th>\n",
       "      <td>therefore midamor otherdrug</td>\n",
       "      <td>desired effect diuretic</td>\n",
       "      <td>obtained</td>\n",
       "    </tr>\n",
       "    <tr>\n",
       "      <th>4</th>\n",
       "      <td>otherdrug  otherdrug</td>\n",
       "      <td>healthy  subjects</td>\n",
       "      <td>shown otherdrug</td>\n",
       "    </tr>\n",
       "    <tr>\n",
       "      <th>...</th>\n",
       "      <td>...</td>\n",
       "      <td>...</td>\n",
       "      <td>...</td>\n",
       "    </tr>\n",
       "    <tr>\n",
       "      <th>6115</th>\n",
       "      <td>agents inhibitors</td>\n",
       "      <td>otherdrug grapefruit juice otherdrug</td>\n",
       "      <td>found</td>\n",
       "    </tr>\n",
       "    <tr>\n",
       "      <th>6116</th>\n",
       "      <td>otherdrug</td>\n",
       "      <td>metabolism otherdrug result</td>\n",
       "      <td>vitro</td>\n",
       "    </tr>\n",
       "    <tr>\n",
       "      <th>6117</th>\n",
       "      <td>prostaglandin synthetase inhibitors</td>\n",
       "      <td>adverse  interactions</td>\n",
       "      <td>used clinical</td>\n",
       "    </tr>\n",
       "    <tr>\n",
       "      <th>6118</th>\n",
       "      <td>oral  solution</td>\n",
       "      <td>systemic absorption concentrations</td>\n",
       "      <td>interfere</td>\n",
       "    </tr>\n",
       "    <tr>\n",
       "      <th>6119</th>\n",
       "      <td>agents</td>\n",
       "      <td>otherdrug induction cyp otherdrug</td>\n",
       "      <td>found</td>\n",
       "    </tr>\n",
       "  </tbody>\n",
       "</table>\n",
       "<p>6120 rows × 3 columns</p>\n",
       "</div>"
      ],
      "text/plain": [
       "                                   source  \\\n",
       "0                  reason dose adrenaline   \n",
       "1                         eg eg otherdrug   \n",
       "2              otherdrug  glucocorticoids   \n",
       "3             therefore midamor otherdrug   \n",
       "4                    otherdrug  otherdrug   \n",
       "...                                   ...   \n",
       "6115                    agents inhibitors   \n",
       "6116                            otherdrug   \n",
       "6117  prostaglandin synthetase inhibitors   \n",
       "6118                       oral  solution   \n",
       "6119                               agents   \n",
       "\n",
       "                                    target                       edge  \n",
       "0                    antiarrhythmic  agent  restricted antiarrhythmic  \n",
       "1                            otherdrug  eg                  otherdrug  \n",
       "2                     otherdrug  otherdrug                      found  \n",
       "3                  desired effect diuretic                   obtained  \n",
       "4                        healthy  subjects            shown otherdrug  \n",
       "...                                    ...                        ...  \n",
       "6115  otherdrug grapefruit juice otherdrug                      found  \n",
       "6116           metabolism otherdrug result                      vitro  \n",
       "6117                 adverse  interactions              used clinical  \n",
       "6118    systemic absorption concentrations                  interfere  \n",
       "6119     otherdrug induction cyp otherdrug                      found  \n",
       "\n",
       "[6120 rows x 3 columns]"
      ]
     },
     "execution_count": 11,
     "metadata": {},
     "output_type": "execute_result"
    }
   ],
   "source": [
    "# extract subject\n",
    "source = [i[0] for i in entity_pairs]\n",
    "\n",
    "# extract object\n",
    "target = [i[1] for i in entity_pairs]\n",
    "\n",
    "kg_df = pd.DataFrame({'source':source, 'target':target, 'edge':relations})\n",
    "kg_df"
   ]
  },
  {
   "cell_type": "code",
   "execution_count": 12,
   "metadata": {},
   "outputs": [],
   "source": [
    "# create a directed-graph from a dataframe\n",
    "G=nx.from_pandas_edgelist(kg_df, \"source\", \"target\", \n",
    "                          edge_attr=True, create_using=nx.MultiDiGraph())\n",
    "\n"
   ]
  },
  {
   "cell_type": "code",
   "execution_count": 14,
   "metadata": {},
   "outputs": [],
   "source": [
    "plt.figure(figsize=(12,12))\n",
    "\n",
    "pos = nx.spring_layout(G)\n",
    "nx.draw(G, with_labels=True, node_color='red', edge_cmap=plt.cm.Blues, pos = pos)\n",
    "plt.show()"
   ]
  }
 ],
 "metadata": {
  "interpreter": {
   "hash": "d2152fd7f0bbc62aa1baff8c990435d1e2c7175d001561303988032604c11a48"
  },
  "kernelspec": {
   "display_name": "Python 3 (ipykernel)",
   "language": "python",
   "name": "python3"
  },
  "language_info": {
   "codemirror_mode": {
    "name": "ipython",
    "version": 3
   },
   "file_extension": ".py",
   "mimetype": "text/x-python",
   "name": "python",
   "nbconvert_exporter": "python",
   "pygments_lexer": "ipython3",
   "version": "3.10.4"
  }
 },
 "nbformat": 4,
 "nbformat_minor": 2
}
